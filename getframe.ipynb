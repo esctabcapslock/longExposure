{
 "cells": [
  {
   "cell_type": "markdown",
   "metadata": {},
   "source": [
    "# 비디오 프레임 추출\n",
    "## cv2 설치\n",
    "`pip install opencv-contrib-python`\n",
    "\n",
    "$\\sum |I_1(i,j) - I_2(i+x,j+y) | $로 평가?\n",
    "\n",
    "$ score =  \\left( \\sum_{i=x}^{(n-1)-x}  ( f(i+x)-f(i) )^2  \\right) $ 최소로\n",
    "\n",
    "$\\frac {\\partial score} {\\partial x} =  0, \\left(f(i+x)-f(i)\\right)f'(i+x) = 0 $\n",
    "\n"
   ]
  },
  {
   "cell_type": "markdown",
   "metadata": {},
   "source": []
  },
  {
   "cell_type": "code",
   "execution_count": 3,
   "metadata": {},
   "outputs": [],
   "source": [
    "import cv2\n",
    "import numpy\n",
    "import matplotlib.pyplot as plt"
   ]
  },
  {
   "cell_type": "code",
   "execution_count": 4,
   "metadata": {},
   "outputs": [],
   "source": []
  },
  {
   "cell_type": "code",
   "execution_count": 4,
   "metadata": {},
   "outputs": [],
   "source": [
    "directory = \"frame\"\n",
    "# the number of frame\n",
    "count = 0\n",
    "\n",
    "def FrameCapture(video):\n",
    "    global directory, count\n",
    "    \n",
    "    # Path to video file \n",
    "    videoObject = cv2.VideoCapture(video) \n",
    "  \n",
    "    print(videoObject.isOpened())\n",
    "    # checks whether frames were extracted \n",
    "    success = 1\n",
    "  \n",
    "    while success: \n",
    "        # videoObject object calls read \n",
    "        success, image = videoObject.read() \n",
    "\n",
    "        if success != 1: break\n",
    "        # Saves the frames \n",
    "        path = directory + '\\\\' + \"frame%d.png\" % count\n",
    "        print(f\"path:{path}\")\n",
    "        cv2.imwrite(path, image) \n",
    "  \n",
    "        count += 1"
   ]
  },
  {
   "cell_type": "code",
   "execution_count": 5,
   "metadata": {},
   "outputs": [
    {
     "name": "stdout",
     "output_type": "stream",
     "text": [
      "True\n",
      "path:frame\\frame0.png\n",
      "path:frame\\frame1.png\n",
      "path:frame\\frame2.png\n",
      "path:frame\\frame3.png\n",
      "path:frame\\frame4.png\n",
      "path:frame\\frame5.png\n",
      "path:frame\\frame6.png\n",
      "path:frame\\frame7.png\n",
      "path:frame\\frame8.png\n",
      "path:frame\\frame9.png\n",
      "path:frame\\frame10.png\n",
      "path:frame\\frame11.png\n",
      "path:frame\\frame12.png\n",
      "path:frame\\frame13.png\n",
      "path:frame\\frame14.png\n",
      "path:frame\\frame15.png\n",
      "path:frame\\frame16.png\n",
      "path:frame\\frame17.png\n",
      "path:frame\\frame18.png\n",
      "path:frame\\frame19.png\n",
      "path:frame\\frame20.png\n",
      "path:frame\\frame21.png\n",
      "path:frame\\frame22.png\n",
      "path:frame\\frame23.png\n",
      "path:frame\\frame24.png\n",
      "path:frame\\frame25.png\n",
      "path:frame\\frame26.png\n",
      "path:frame\\frame27.png\n",
      "path:frame\\frame28.png\n",
      "path:frame\\frame29.png\n",
      "path:frame\\frame30.png\n",
      "path:frame\\frame31.png\n",
      "path:frame\\frame32.png\n",
      "path:frame\\frame33.png\n",
      "path:frame\\frame34.png\n",
      "path:frame\\frame35.png\n",
      "path:frame\\frame36.png\n",
      "path:frame\\frame37.png\n",
      "path:frame\\frame38.png\n",
      "path:frame\\frame39.png\n",
      "path:frame\\frame40.png\n",
      "path:frame\\frame41.png\n",
      "path:frame\\frame42.png\n",
      "path:frame\\frame43.png\n",
      "path:frame\\frame44.png\n",
      "path:frame\\frame45.png\n",
      "path:frame\\frame46.png\n",
      "path:frame\\frame47.png\n",
      "path:frame\\frame48.png\n",
      "path:frame\\frame49.png\n",
      "path:frame\\frame50.png\n",
      "path:frame\\frame51.png\n",
      "path:frame\\frame52.png\n",
      "path:frame\\frame53.png\n",
      "path:frame\\frame54.png\n",
      "path:frame\\frame55.png\n",
      "path:frame\\frame56.png\n",
      "path:frame\\frame57.png\n",
      "path:frame\\frame58.png\n",
      "path:frame\\frame59.png\n",
      "path:frame\\frame60.png\n",
      "path:frame\\frame61.png\n",
      "path:frame\\frame62.png\n",
      "path:frame\\frame63.png\n",
      "path:frame\\frame64.png\n",
      "path:frame\\frame65.png\n",
      "path:frame\\frame66.png\n",
      "path:frame\\frame67.png\n",
      "path:frame\\frame68.png\n",
      "path:frame\\frame69.png\n",
      "path:frame\\frame70.png\n",
      "path:frame\\frame71.png\n",
      "path:frame\\frame72.png\n",
      "path:frame\\frame73.png\n",
      "path:frame\\frame74.png\n",
      "path:frame\\frame75.png\n",
      "path:frame\\frame76.png\n",
      "path:frame\\frame77.png\n",
      "path:frame\\frame78.png\n",
      "path:frame\\frame79.png\n",
      "path:frame\\frame80.png\n",
      "path:frame\\frame81.png\n",
      "path:frame\\frame82.png\n",
      "path:frame\\frame83.png\n",
      "path:frame\\frame84.png\n",
      "path:frame\\frame85.png\n",
      "path:frame\\frame86.png\n",
      "path:frame\\frame87.png\n",
      "path:frame\\frame88.png\n",
      "path:frame\\frame89.png\n",
      "path:frame\\frame90.png\n",
      "path:frame\\frame91.png\n",
      "path:frame\\frame92.png\n",
      "path:frame\\frame93.png\n",
      "path:frame\\frame94.png\n",
      "path:frame\\frame95.png\n",
      "path:frame\\frame96.png\n",
      "path:frame\\frame97.png\n",
      "path:frame\\frame98.png\n",
      "path:frame\\frame99.png\n",
      "path:frame\\frame100.png\n",
      "path:frame\\frame101.png\n",
      "path:frame\\frame102.png\n",
      "path:frame\\frame103.png\n",
      "path:frame\\frame104.png\n",
      "path:frame\\frame105.png\n",
      "path:frame\\frame106.png\n",
      "path:frame\\frame107.png\n",
      "path:frame\\frame108.png\n",
      "path:frame\\frame109.png\n",
      "path:frame\\frame110.png\n",
      "path:frame\\frame111.png\n",
      "path:frame\\frame112.png\n",
      "path:frame\\frame113.png\n",
      "path:frame\\frame114.png\n",
      "path:frame\\frame115.png\n",
      "path:frame\\frame116.png\n",
      "path:frame\\frame117.png\n",
      "path:frame\\frame118.png\n",
      "path:frame\\frame119.png\n",
      "path:frame\\frame120.png\n",
      "path:frame\\frame121.png\n",
      "path:frame\\frame122.png\n",
      "path:frame\\frame123.png\n",
      "path:frame\\frame124.png\n",
      "path:frame\\frame125.png\n",
      "path:frame\\frame126.png\n",
      "path:frame\\frame127.png\n",
      "path:frame\\frame128.png\n",
      "path:frame\\frame129.png\n",
      "path:frame\\frame130.png\n",
      "path:frame\\frame131.png\n",
      "path:frame\\frame132.png\n",
      "path:frame\\frame133.png\n",
      "path:frame\\frame134.png\n",
      "path:frame\\frame135.png\n",
      "path:frame\\frame136.png\n",
      "path:frame\\frame137.png\n",
      "path:frame\\frame138.png\n",
      "path:frame\\frame139.png\n",
      "path:frame\\frame140.png\n",
      "path:frame\\frame141.png\n",
      "path:frame\\frame142.png\n",
      "path:frame\\frame143.png\n",
      "path:frame\\frame144.png\n",
      "path:frame\\frame145.png\n",
      "path:frame\\frame146.png\n",
      "path:frame\\frame147.png\n",
      "path:frame\\frame148.png\n",
      "path:frame\\frame149.png\n",
      "path:frame\\frame150.png\n",
      "path:frame\\frame151.png\n",
      "path:frame\\frame152.png\n",
      "path:frame\\frame153.png\n",
      "path:frame\\frame154.png\n",
      "path:frame\\frame155.png\n",
      "path:frame\\frame156.png\n",
      "path:frame\\frame157.png\n",
      "path:frame\\frame158.png\n",
      "path:frame\\frame159.png\n",
      "path:frame\\frame160.png\n",
      "path:frame\\frame161.png\n",
      "path:frame\\frame162.png\n",
      "path:frame\\frame163.png\n",
      "path:frame\\frame164.png\n",
      "path:frame\\frame165.png\n",
      "path:frame\\frame166.png\n",
      "path:frame\\frame167.png\n",
      "path:frame\\frame168.png\n",
      "path:frame\\frame169.png\n",
      "path:frame\\frame170.png\n",
      "path:frame\\frame171.png\n",
      "path:frame\\frame172.png\n",
      "path:frame\\frame173.png\n",
      "path:frame\\frame174.png\n",
      "path:frame\\frame175.png\n",
      "path:frame\\frame176.png\n",
      "path:frame\\frame177.png\n",
      "path:frame\\frame178.png\n",
      "path:frame\\frame179.png\n",
      "path:frame\\frame180.png\n",
      "path:frame\\frame181.png\n",
      "path:frame\\frame182.png\n",
      "path:frame\\frame183.png\n",
      "path:frame\\frame184.png\n",
      "path:frame\\frame185.png\n",
      "path:frame\\frame186.png\n",
      "path:frame\\frame187.png\n",
      "path:frame\\frame188.png\n",
      "path:frame\\frame189.png\n",
      "path:frame\\frame190.png\n",
      "path:frame\\frame191.png\n",
      "path:frame\\frame192.png\n",
      "path:frame\\frame193.png\n",
      "path:frame\\frame194.png\n",
      "path:frame\\frame195.png\n",
      "path:frame\\frame196.png\n",
      "path:frame\\frame197.png\n",
      "path:frame\\frame198.png\n",
      "path:frame\\frame199.png\n",
      "path:frame\\frame200.png\n",
      "path:frame\\frame201.png\n",
      "path:frame\\frame202.png\n",
      "path:frame\\frame203.png\n",
      "path:frame\\frame204.png\n",
      "path:frame\\frame205.png\n",
      "path:frame\\frame206.png\n",
      "path:frame\\frame207.png\n",
      "path:frame\\frame208.png\n",
      "path:frame\\frame209.png\n",
      "path:frame\\frame210.png\n",
      "path:frame\\frame211.png\n",
      "path:frame\\frame212.png\n",
      "path:frame\\frame213.png\n",
      "path:frame\\frame214.png\n",
      "path:frame\\frame215.png\n",
      "path:frame\\frame216.png\n",
      "path:frame\\frame217.png\n",
      "path:frame\\frame218.png\n",
      "path:frame\\frame219.png\n",
      "path:frame\\frame220.png\n",
      "path:frame\\frame221.png\n",
      "path:frame\\frame222.png\n",
      "path:frame\\frame223.png\n",
      "path:frame\\frame224.png\n",
      "path:frame\\frame225.png\n",
      "path:frame\\frame226.png\n",
      "path:frame\\frame227.png\n",
      "path:frame\\frame228.png\n",
      "path:frame\\frame229.png\n",
      "path:frame\\frame230.png\n",
      "path:frame\\frame231.png\n",
      "path:frame\\frame232.png\n",
      "path:frame\\frame233.png\n",
      "path:frame\\frame234.png\n",
      "path:frame\\frame235.png\n",
      "path:frame\\frame236.png\n",
      "path:frame\\frame237.png\n",
      "path:frame\\frame238.png\n",
      "path:frame\\frame239.png\n",
      "path:frame\\frame240.png\n",
      "path:frame\\frame241.png\n",
      "path:frame\\frame242.png\n",
      "path:frame\\frame243.png\n",
      "path:frame\\frame244.png\n",
      "path:frame\\frame245.png\n",
      "path:frame\\frame246.png\n",
      "path:frame\\frame247.png\n",
      "path:frame\\frame248.png\n",
      "path:frame\\frame249.png\n",
      "path:frame\\frame250.png\n",
      "path:frame\\frame251.png\n",
      "path:frame\\frame252.png\n",
      "path:frame\\frame253.png\n",
      "path:frame\\frame254.png\n",
      "path:frame\\frame255.png\n",
      "path:frame\\frame256.png\n",
      "path:frame\\frame257.png\n",
      "path:frame\\frame258.png\n",
      "path:frame\\frame259.png\n",
      "path:frame\\frame260.png\n",
      "path:frame\\frame261.png\n",
      "path:frame\\frame262.png\n",
      "path:frame\\frame263.png\n",
      "path:frame\\frame264.png\n",
      "path:frame\\frame265.png\n",
      "path:frame\\frame266.png\n",
      "path:frame\\frame267.png\n",
      "path:frame\\frame268.png\n",
      "path:frame\\frame269.png\n",
      "path:frame\\frame270.png\n",
      "path:frame\\frame271.png\n",
      "path:frame\\frame272.png\n",
      "path:frame\\frame273.png\n",
      "path:frame\\frame274.png\n",
      "path:frame\\frame275.png\n",
      "path:frame\\frame276.png\n",
      "path:frame\\frame277.png\n",
      "path:frame\\frame278.png\n",
      "path:frame\\frame279.png\n",
      "path:frame\\frame280.png\n",
      "path:frame\\frame281.png\n",
      "path:frame\\frame282.png\n",
      "path:frame\\frame283.png\n",
      "path:frame\\frame284.png\n",
      "path:frame\\frame285.png\n",
      "path:frame\\frame286.png\n",
      "path:frame\\frame287.png\n",
      "path:frame\\frame288.png\n",
      "path:frame\\frame289.png\n",
      "path:frame\\frame290.png\n",
      "path:frame\\frame291.png\n",
      "path:frame\\frame292.png\n",
      "path:frame\\frame293.png\n",
      "path:frame\\frame294.png\n",
      "path:frame\\frame295.png\n",
      "path:frame\\frame296.png\n",
      "path:frame\\frame297.png\n",
      "path:frame\\frame298.png\n",
      "path:frame\\frame299.png\n",
      "path:frame\\frame300.png\n",
      "path:frame\\frame301.png\n",
      "path:frame\\frame302.png\n",
      "path:frame\\frame303.png\n",
      "path:frame\\frame304.png\n",
      "path:frame\\frame305.png\n",
      "path:frame\\frame306.png\n",
      "path:frame\\frame307.png\n",
      "path:frame\\frame308.png\n",
      "path:frame\\frame309.png\n",
      "path:frame\\frame310.png\n",
      "path:frame\\frame311.png\n",
      "path:frame\\frame312.png\n",
      "path:frame\\frame313.png\n",
      "path:frame\\frame314.png\n",
      "path:frame\\frame315.png\n",
      "path:frame\\frame316.png\n",
      "path:frame\\frame317.png\n",
      "path:frame\\frame318.png\n",
      "path:frame\\frame319.png\n",
      "path:frame\\frame320.png\n",
      "path:frame\\frame321.png\n",
      "path:frame\\frame322.png\n",
      "path:frame\\frame323.png\n",
      "path:frame\\frame324.png\n",
      "path:frame\\frame325.png\n",
      "path:frame\\frame326.png\n",
      "path:frame\\frame327.png\n",
      "path:frame\\frame328.png\n",
      "path:frame\\frame329.png\n",
      "path:frame\\frame330.png\n",
      "path:frame\\frame331.png\n",
      "path:frame\\frame332.png\n",
      "path:frame\\frame333.png\n",
      "path:frame\\frame334.png\n",
      "path:frame\\frame335.png\n",
      "path:frame\\frame336.png\n",
      "path:frame\\frame337.png\n",
      "path:frame\\frame338.png\n",
      "path:frame\\frame339.png\n",
      "path:frame\\frame340.png\n",
      "path:frame\\frame341.png\n",
      "path:frame\\frame342.png\n",
      "path:frame\\frame343.png\n",
      "path:frame\\frame344.png\n",
      "path:frame\\frame345.png\n",
      "path:frame\\frame346.png\n",
      "path:frame\\frame347.png\n",
      "path:frame\\frame348.png\n",
      "path:frame\\frame349.png\n",
      "path:frame\\frame350.png\n",
      "path:frame\\frame351.png\n",
      "path:frame\\frame352.png\n",
      "path:frame\\frame353.png\n",
      "path:frame\\frame354.png\n",
      "path:frame\\frame355.png\n",
      "path:frame\\frame356.png\n",
      "path:frame\\frame357.png\n",
      "path:frame\\frame358.png\n",
      "path:frame\\frame359.png\n",
      "path:frame\\frame360.png\n",
      "path:frame\\frame361.png\n",
      "path:frame\\frame362.png\n",
      "path:frame\\frame363.png\n",
      "path:frame\\frame364.png\n",
      "path:frame\\frame365.png\n",
      "path:frame\\frame366.png\n",
      "path:frame\\frame367.png\n",
      "path:frame\\frame368.png\n",
      "path:frame\\frame369.png\n",
      "path:frame\\frame370.png\n",
      "path:frame\\frame371.png\n",
      "path:frame\\frame372.png\n",
      "path:frame\\frame373.png\n",
      "path:frame\\frame374.png\n",
      "path:frame\\frame375.png\n",
      "path:frame\\frame376.png\n",
      "path:frame\\frame377.png\n",
      "path:frame\\frame378.png\n",
      "path:frame\\frame379.png\n",
      "path:frame\\frame380.png\n",
      "path:frame\\frame381.png\n",
      "path:frame\\frame382.png\n",
      "path:frame\\frame383.png\n",
      "path:frame\\frame384.png\n",
      "path:frame\\frame385.png\n",
      "path:frame\\frame386.png\n",
      "path:frame\\frame387.png\n",
      "path:frame\\frame388.png\n",
      "path:frame\\frame389.png\n",
      "path:frame\\frame390.png\n",
      "path:frame\\frame391.png\n",
      "path:frame\\frame392.png\n",
      "path:frame\\frame393.png\n",
      "path:frame\\frame394.png\n",
      "path:frame\\frame395.png\n",
      "path:frame\\frame396.png\n",
      "path:frame\\frame397.png\n",
      "path:frame\\frame398.png\n",
      "path:frame\\frame399.png\n",
      "path:frame\\frame400.png\n",
      "path:frame\\frame401.png\n",
      "path:frame\\frame402.png\n",
      "path:frame\\frame403.png\n",
      "path:frame\\frame404.png\n",
      "path:frame\\frame405.png\n",
      "path:frame\\frame406.png\n",
      "path:frame\\frame407.png\n",
      "path:frame\\frame408.png\n",
      "path:frame\\frame409.png\n",
      "path:frame\\frame410.png\n",
      "path:frame\\frame411.png\n",
      "path:frame\\frame412.png\n",
      "path:frame\\frame413.png\n",
      "path:frame\\frame414.png\n",
      "path:frame\\frame415.png\n",
      "path:frame\\frame416.png\n",
      "path:frame\\frame417.png\n",
      "path:frame\\frame418.png\n",
      "path:frame\\frame419.png\n",
      "path:frame\\frame420.png\n",
      "path:frame\\frame421.png\n",
      "path:frame\\frame422.png\n",
      "path:frame\\frame423.png\n",
      "path:frame\\frame424.png\n",
      "path:frame\\frame425.png\n",
      "path:frame\\frame426.png\n",
      "path:frame\\frame427.png\n",
      "path:frame\\frame428.png\n",
      "path:frame\\frame429.png\n",
      "path:frame\\frame430.png\n",
      "path:frame\\frame431.png\n",
      "path:frame\\frame432.png\n",
      "path:frame\\frame433.png\n",
      "path:frame\\frame434.png\n",
      "path:frame\\frame435.png\n",
      "path:frame\\frame436.png\n",
      "path:frame\\frame437.png\n",
      "path:frame\\frame438.png\n",
      "path:frame\\frame439.png\n",
      "path:frame\\frame440.png\n",
      "path:frame\\frame441.png\n"
     ]
    }
   ],
   "source": [
    "FrameCapture('data\\\\video.MOV')"
   ]
  },
  {
   "cell_type": "markdown",
   "metadata": {},
   "source": [
    "## 이미지 들어간거 찾기"
   ]
  },
  {
   "cell_type": "code",
   "execution_count": 253,
   "metadata": {},
   "outputs": [],
   "source": [
    "i1 = cv2.imread(\"frame/frame0.png\")\n",
    "i2 = cv2.imread(\"frame/frame1.png\")\n",
    "i3 = cv2.imread(\"frame/frame2.png\")\n",
    "i4 = cv2.imread(\"frame/frame3.png\")\n",
    "i5 = cv2.imread(\"frame/frame4.png\")\n",
    "i6 = cv2.imread(\"frame/frame5.png\")\n",
    "i7 = cv2.imread(\"frame/frame6.png\")"
   ]
  },
  {
   "cell_type": "code",
   "execution_count": 34,
   "metadata": {},
   "outputs": [
    {
     "data": {
      "text/plain": [
       "-1"
      ]
     },
     "execution_count": 34,
     "metadata": {},
     "output_type": "execute_result"
    }
   ],
   "source": [
    "cv2.imshow(\"im1\",i1)\n",
    "cv2.imshow(\"im2\",i2)\n",
    "cv2.waitKey(0)"
   ]
  },
  {
   "cell_type": "code",
   "execution_count": 43,
   "metadata": {},
   "outputs": [],
   "source": [
    "cv2.destroyAllWindows()"
   ]
  },
  {
   "cell_type": "code",
   "execution_count": 41,
   "metadata": {},
   "outputs": [],
   "source": []
  },
  {
   "cell_type": "code",
   "execution_count": null,
   "metadata": {},
   "outputs": [],
   "source": [
    "img = i1-i2\n",
    "cv2.imshow(\"img\",img)\n",
    "cv2.waitKey(0)"
   ]
  },
  {
   "cell_type": "code",
   "execution_count": null,
   "metadata": {},
   "outputs": [],
   "source": []
  },
  {
   "cell_type": "code",
   "execution_count": 302,
   "metadata": {},
   "outputs": [
    {
     "name": "stdout",
     "output_type": "stream",
     "text": [
      "[[40.2093 38.657  36.4461 33.7727 31.9113 32.9537 34.9828 36.9089 38.3241]\n",
      " [39.3983 37.66   35.1145 31.958  29.6413 30.9005 33.4599 35.848  37.5515]\n",
      " [38.3134 36.326  33.342  29.5109 26.4924 28.127  31.5061 34.5113 36.594 ]\n",
      " [36.8164 34.4741 30.8775 26.0493 21.8778 24.2149 28.8695 32.6823 35.2325]\n",
      " [34.8933 32.1036 27.7084 21.4036 15.2072 19.0598 25.6113 30.4279 33.5118]\n",
      " [33.6671 30.5674 25.6417 18.294  10.0578 15.7653 23.6988 29.1499 32.5751]\n",
      " [34.5893 31.7869 27.4061 21.2383 15.454  19.3802 25.9519 30.7614 33.8266]\n",
      " [36.1019 33.7249 30.1464 25.5346 21.7442 24.28   29.1915 33.1074 35.6858]\n",
      " [37.2857 35.2904 32.3978 28.9192 26.1893 27.9375 31.7376 34.9636 37.1401]]\n"
     ]
    },
    {
     "data": {
      "text/plain": [
       "(0.13309646702673747, 0.8171233352565108)"
      ]
     },
     "execution_count": 302,
     "metadata": {},
     "output_type": "execute_result"
    },
    {
     "data": {
      "image/png": "[encoded data removed]",
      "text/plain": [
       "<Figure size 432x288 with 1 Axes>"
      ]
     },
     "metadata": {
      "needs_background": "light"
     },
     "output_type": "display_data"
    }
   ],
   "source": [
    "px, py = 0 ,0 \n",
    "\n",
    "h, w, _ = i1.shape\n",
    "xl = 4\n",
    "yl = 4\n",
    "\n",
    "fw = lambda x:  w if x>=0 else x\n",
    "fh = lambda x:  h if x>=0 else x\n",
    "\n",
    "ew = lambda x:  w if x>=0 else x\n",
    "eh = lambda x:  h if x>=0 else x\n",
    "\n",
    "xrange = range(-xl+px, xl+1+px)\n",
    "yrange = range(-yl+py, yl+1+py)\n",
    "\n",
    "score =  numpy.zeros((xl*2+1,yl*2+1),dtype=int)\n",
    "\n",
    "for xh in xrange:\n",
    "    for yh in yrange:\n",
    "        i_sum = 0\n",
    "        \n",
    "        t1 = i1[max(0,yh):h+min(0,yh) , max(0,xh):w+min(0,xh) ]\n",
    "        t2 = i4[max(0,-yh):h-max(0,yh), max(0,-xh):w-max(0,xh)]\n",
    "        # print(t1.shape, t2.shape)\n",
    "        img = t1-t2\n",
    "        \n",
    "        score[xh+xl,yh+yl] = sum(sum(sum(numpy.abs(img.astype('int8').astype('int32')))))\n",
    "        # print(score)\n",
    "\n",
    "\n",
    "score = score/ (w-xl)/(h-yl)\n",
    "# score = 1/(score*score)\n",
    "print(score.round(4))\n",
    "\n",
    "## 시각화\n",
    "x,y = numpy.meshgrid(\n",
    "    numpy.array(xrange),\n",
    "    numpy.array(yrange)\n",
    ")\n",
    "\n",
    "# fig = plt.figure()\n",
    "# ax = fig.gca(projection='3d')\n",
    "# ax.plot_surface(x,y,score, cmap=\"BuPu\")\n",
    "# plt.show()\n",
    "\n",
    "plt.grid(True)\n",
    "d = score.reshape((xl*2+1)*(yl*2+1))\n",
    "\n",
    "mylevels = numpy.linspace(min(d),max(d),15)\n",
    "ourplot = plt.contourf(x,y,score,levels=mylevels,) #cmap=\"coolwarm\"\n",
    "\n",
    "sum_xy = lambda x,y : sum([(xh**x)*(yh**y) for xh in xrange for yh in yrange])\n",
    "view_xy = lambda x,y : sum([(xh**x)*(yh**y)*score[yh+yl, xh+xl] for xh in xrange for yh in yrange])\n",
    "\n",
    "# x,y = 0,0\n",
    "\n",
    "diff = [(2,0),(1,1),(0,2),(1,0),(0,1),(0,0)]\n",
    "\n",
    "A = numpy.array([[sum_xy(x+i,y+j) for x,y in diff] for i,j in diff])\n",
    "Y = numpy.array([[view_xy(x,y)] for x,y in diff])\n",
    "invA = numpy.linalg.inv(A)\n",
    "\n",
    "X = invA@Y\n",
    "a,b,c,d,e,f =  X.reshape(6)\n",
    "# -numpy.linalg.inv(numpy.array([[2*a,b],[b,2*c]]))@numpy.array([[d],[e]])\n",
    "minX, minY = -(b*e-2*c*d)/(b*b-4*a*c), -(b*d-2*a*e)/(b*b-4*a*c)\n",
    "minX, minY\n",
    "\n",
    "\n"
   ]
  },
  {
   "cell_type": "code",
   "execution_count": 299,
   "metadata": {},
   "outputs": [
    {
     "data": {
      "text/plain": [
       "[0.025734175781299724, 0.6276613915803442]"
      ]
     },
     "execution_count": 299,
     "metadata": {},
     "output_type": "execute_result"
    }
   ],
   "source": [
    "s = (score).reshape((xl*2+1)*(yl*2+1)).sum()\n",
    "[\n",
    "(x*score).reshape((xl*2+1)*(yl*2+1)).sum()/s,\n",
    "(y*score).reshape((xl*2+1)*(yl*2+1)).sum()/s\n",
    "]"
   ]
  },
  {
   "cell_type": "code",
   "execution_count": 270,
   "metadata": {},
   "outputs": [],
   "source": [
    "a = numpy.array(range(9)).reshape((3,3))\n",
    "a**2"
   ]
  },
  {
   "cell_type": "code",
   "execution_count": 304,
   "metadata": {},
   "outputs": [
    {
     "data": {
      "text/plain": [
       "array([[46.35, 40.65, 36.48, 33.84, 32.74, 33.17, 35.14, 38.64, 43.68],\n",
       "       [42.2 , 36.52, 32.38, 29.77, 28.69, 29.15, 31.14, 34.67, 39.73],\n",
       "       [38.97, 33.32, 29.21, 26.63, 25.58, 26.07, 28.09, 31.64, 36.73],\n",
       "       [36.69, 31.07, 26.98, 24.42, 23.4 , 23.92, 25.96, 29.55, 34.66],\n",
       "       [35.34, 29.75, 25.69, 23.16, 22.16, 22.71, 24.78, 28.39, 33.53],\n",
       "       [34.93, 29.36, 25.33, 22.83, 21.86, 22.43, 24.53, 28.17, 33.34],\n",
       "       [35.46, 29.92, 25.91, 23.44, 22.5 , 23.1 , 25.22, 28.89, 34.08],\n",
       "       [36.93, 31.41, 27.43, 24.99, 24.07, 24.7 , 26.85, 30.54, 35.77],\n",
       "       [39.33, 33.84, 29.89, 27.47, 26.59, 27.23, 29.42, 33.14, 38.39]])"
      ]
     },
     "execution_count": 304,
     "metadata": {},
     "output_type": "execute_result"
    }
   ],
   "source": [
    "numpy.array([[a*x*x + b*x*y + c*y*y + d*x + e*y + f for x in xrange] for y in yrange]).round(2)"
   ]
  },
  {
   "cell_type": "code",
   "execution_count": 296,
   "metadata": {},
   "outputs": [
    {
     "data": {
      "text/plain": [
       "array([[0.02318075, 0.02396068, 0.02512598, 0.02656801, 0.02732141,\n",
       "        0.02655355, 0.02552366, 0.02464547, 0.02404403],\n",
       "       [0.02359431, 0.02450135, 0.02590214, 0.02770198, 0.02873196,\n",
       "        0.02776117, 0.0264112 , 0.02528005, 0.02453252],\n",
       "       [0.02403977, 0.02510306, 0.02681101, 0.0291219 , 0.03057471,\n",
       "        0.02924706, 0.02738258, 0.025901  , 0.02496851],\n",
       "       [0.02463582, 0.02592047, 0.02808147, 0.03124589, 0.03349736,\n",
       "        0.03144685, 0.02868558, 0.02669077, 0.02549397],\n",
       "       [0.02554577, 0.02718663, 0.03011562, 0.03492124, 0.03897792,\n",
       "        0.03515188, 0.03069915, 0.02789795, 0.0263173 ],\n",
       "       [0.02680806, 0.02898108, 0.03316571, 0.04135344, 0.05047097,\n",
       "        0.0412903 , 0.03355655, 0.02953694, 0.02743705],\n",
       "       [0.02778404, 0.03042711, 0.0357807 , 0.04779473, 0.06612921,\n",
       "        0.04703024, 0.03577054, 0.0307015 , 0.02818275],\n",
       "       [0.02717972, 0.02948585, 0.03393257, 0.04258403, 0.0522935 ,\n",
       "        0.04209231, 0.03379268, 0.0295947 , 0.02743055],\n",
       "       [0.02619592, 0.02799552, 0.03116746, 0.03623752, 0.04062152,\n",
       "        0.03604478, 0.03098447, 0.02795386, 0.02628049]])"
      ]
     },
     "execution_count": 296,
     "metadata": {},
     "output_type": "execute_result"
    }
   ],
   "source": [
    "score"
   ]
  },
  {
   "cell_type": "code",
   "execution_count": 216,
   "metadata": {},
   "outputs": [
    {
     "data": {
      "text/plain": [
       "(0.014868623858982999, 0.4703768436590926)"
      ]
     },
     "execution_count": 216,
     "metadata": {},
     "output_type": "execute_result"
    }
   ],
   "source": []
  },
  {
   "cell_type": "code",
   "execution_count": 211,
   "metadata": {},
   "outputs": [
    {
     "data": {
      "text/plain": [
       "(0.4703768436590926, 0.014868623858982999)"
      ]
     },
     "execution_count": 211,
     "metadata": {},
     "output_type": "execute_result"
    }
   ],
   "source": [
    "[[for xh in range(-xl, xl+1)] for yh in range(-yl, yl+1)]"
   ]
  },
  {
   "cell_type": "code",
   "execution_count": 223,
   "metadata": {},
   "outputs": [
    {
     "data": {
      "text/plain": [
       "array([[0, 1, 2],\n",
       "       [3, 4, 5],\n",
       "       [6, 7, 8]])"
      ]
     },
     "execution_count": 223,
     "metadata": {},
     "output_type": "execute_result"
    }
   ],
   "source": [
    "k= numpy.array(range(3**2)).reshape((3,3))\n",
    "k"
   ]
  },
  {
   "cell_type": "code",
   "execution_count": 228,
   "metadata": {},
   "outputs": [
    {
     "data": {
      "text/plain": [
       "(1440, 1920)"
      ]
     },
     "execution_count": 228,
     "metadata": {},
     "output_type": "execute_result"
    }
   ],
   "source": [
    "w, h"
   ]
  },
  {
   "cell_type": "code",
   "execution_count": 121,
   "metadata": {},
   "outputs": [
    {
     "data": {
      "text/plain": [
       "array([[ 108,  -20,  -54],\n",
       "       [  70,  -16,  -68],\n",
       "       [  55,  -37,  -93],\n",
       "       ...,\n",
       "       [  33,   71, -116],\n",
       "       [ -46, -115,   23],\n",
       "       [  22,   -2,   44]], dtype=int8)"
      ]
     },
     "execution_count": 121,
     "metadata": {},
     "output_type": "execute_result"
    }
   ],
   "source": [
    "sum(numpy.abs(img.astype('int8')))"
   ]
  },
  {
   "cell_type": "code",
   "execution_count": 129,
   "metadata": {},
   "outputs": [
    {
     "data": {
      "text/plain": [
       "array([[38.28, 37.21, 35.72, 33.77, 31.94, 32.44, 34.07, 35.54, 36.56],\n",
       "       [36.39, 35.06, 33.17, 30.72, 28.36, 29.06, 31.2 , 33.16, 34.6 ],\n",
       "       [33.67, 31.87, 29.34, 25.97, 22.69, 23.74, 26.87, 29.74, 31.88],\n",
       "       [30.45, 27.97, 24.38, 19.37, 14.14, 16.07, 21.3 , 25.7 , 28.82],\n",
       "       [28.57, 25.49, 20.89, 14.06,  5.36,  9.55, 17.38, 23.02, 26.78],\n",
       "       [30.35, 27.78, 24.1 , 19.19, 14.34, 16.63, 21.85, 26.06, 28.99],\n",
       "       [32.96, 31.17, 28.68, 25.55, 22.68, 24.15, 27.53, 30.43, 32.5 ],\n",
       "       [35.31, 34.1 , 32.36, 30.19, 28.21, 29.29, 31.76, 33.9 , 35.42],\n",
       "       [37.  , 36.14, 34.86, 33.19, 31.7 , 32.54, 34.53, 36.22, 37.42]])"
      ]
     },
     "execution_count": 129,
     "metadata": {},
     "output_type": "execute_result"
    }
   ],
   "source": [
    "(score/ (w-xl)/(h-yl)).round(2)"
   ]
  }
 ],
 "metadata": {
  "kernelspec": {
   "display_name": "Python 3.10.4 ('venv': venv)",
   "language": "python",
   "name": "python3"
  },
  "language_info": {
   "codemirror_mode": {
    "name": "ipython",
    "version": 3
   },
   "file_extension": ".py",
   "mimetype": "text/x-python",
   "name": "python",
   "nbconvert_exporter": "python",
   "pygments_lexer": "ipython3",
   "version": "3.10.4"
  },
  "orig_nbformat": 4,
  "vscode": {
   "interpreter": {
    "hash": "6897cff8888e560c5dabd88ab6fba74f5d3df8fc1a21917466cd3f1320bf85fd"
   }
  }
 },
 "nbformat": 4,
 "nbformat_minor": 2
}
