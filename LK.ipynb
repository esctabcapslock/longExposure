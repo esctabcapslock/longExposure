{
 "cells": [
  {
   "cell_type": "markdown",
   "metadata": {},
   "source": [
    "# 린커-쿤다 방법\n",
    "- https://docs.opencv.org/3.4/d4/dee/tutorial_optical_flow.html\n",
    "- 그래 이거지"
   ]
  },
  {
   "cell_type": "code",
   "execution_count": 12,
   "metadata": {},
   "outputs": [],
   "source": [
    "import numpy as np\n",
    "import cv2 \n",
    "import argparse"
   ]
  },
  {
   "cell_type": "code",
   "execution_count": 13,
   "metadata": {},
   "outputs": [],
   "source": [
    "i1 = cv2.imread(\"frame/frame0.png\")\n",
    "i2 = cv2.imread(\"frame/frame1.png\")\n",
    "i3 = cv2.imread(\"frame/frame2.png\")\n",
    "i4 = cv2.imread(\"frame/frame3.png\")\n",
    "i5 = cv2.imread(\"frame/frame4.png\")\n",
    "i6 = cv2.imread(\"frame/frame5.png\")\n",
    "i7 = cv2.imread(\"frame/frame6.png\")"
   ]
  },
  {
   "cell_type": "code",
   "execution_count": 48,
   "metadata": {},
   "outputs": [],
   "source": [
    "f1 = cv2.cvtColor(i1, cv2.COLOR_BGR2GRAY)\n",
    "f2 = cv2.cvtColor(i2, cv2.COLOR_BGR2GRAY)\n",
    "\n",
    "# params for ShiTomasi corner detection\n",
    "feature_params = dict( maxCorners = 100,\n",
    "                       qualityLevel = 0.3,\n",
    "                       minDistance = 7,\n",
    "                       blockSize = 7 )\n",
    "p0 = cv2.goodFeaturesToTrack(f1, mask = None, **feature_params)"
   ]
  },
  {
   "cell_type": "code",
   "execution_count": 57,
   "metadata": {},
   "outputs": [],
   "source": [
    "# Parameters for lucas kanade optical flow\n",
    "lk_params = dict( winSize  = (15, 15),\n",
    "                  maxLevel = 2,\n",
    "                  criteria = (cv2.TERM_CRITERIA_EPS | cv2.TERM_CRITERIA_COUNT, 10, 0.03))\n",
    "\n",
    "\n",
    "p1, st, err = cv2.calcOpticalFlowPyrLK(f1,f2, p0, None, **lk_params)\n",
    "\n",
    "\n",
    "good_new = p1[st==1]\n",
    "good_old = p0[st==1]\n",
    "transMat, _ = cv2.estimateAffine2D(good_old,good_new)"
   ]
  },
  {
   "cell_type": "code",
   "execution_count": 58,
   "metadata": {},
   "outputs": [
    {
     "data": {
      "text/plain": [
       "array([[ 1.00004662e+00, -4.16074358e-05, -2.56859724e-01],\n",
       "       [-7.80649164e-05,  1.00005599e+00,  4.07287428e-02]])"
      ]
     },
     "execution_count": 58,
     "metadata": {},
     "output_type": "execute_result"
    }
   ],
   "source": [
    "transMat"
   ]
  },
  {
   "cell_type": "code",
   "execution_count": 257,
   "metadata": {},
   "outputs": [
    {
     "name": "stdout",
     "output_type": "stream",
     "text": [
      "종료\n"
     ]
    }
   ],
   "source": [
    "\n",
    "\n",
    "\n",
    "\n",
    "cap = cv2.VideoCapture('data/video.MOV')\n",
    "# params for ShiTomasi corner detection\n",
    "feature_params = dict( maxCorners = 100,\n",
    "                       qualityLevel = 0.3,\n",
    "                       minDistance = 7,\n",
    "                       blockSize = 7 )\n",
    "# Parameters for lucas kanade optical flow\n",
    "lk_params = dict( winSize  = (15, 15),\n",
    "                  maxLevel = 2,\n",
    "                  criteria = (cv2.TERM_CRITERIA_EPS | cv2.TERM_CRITERIA_COUNT, 10, 0.03))\n",
    "# Create some random colors\n",
    "color = np.random.randint(0, 255, (100, 3))\n",
    "\n",
    "# 확대 행렬\n",
    "m_big = np.float32([[2, 0, 0], [0, 2, 0]])  \n",
    "\n",
    "# 시작\n",
    "for i in range(30*3): cap.read()\n",
    "frameNm = 30*3-1\n",
    "\n",
    "# Take first frame and find corners in it\n",
    "ret, old_frame = cap.read()\n",
    "# old_frame = cv2.resize(old_frame, None,  None, 2, 2, cv2.INTER_LINEAR)\n",
    "# old_frame = cv2.pyrUp(old_frame)\n",
    "old_gray = cv2.cvtColor(old_frame, cv2.COLOR_BGR2GRAY)\n",
    "p0 = cv2.goodFeaturesToTrack(old_gray, mask = None, **feature_params)\n",
    "# Create a mask image for drawing purposes\n",
    "mask = np.zeros_like(old_frame)\n",
    "\n",
    "# 크기\n",
    "cols, rows = old_gray.shape\n",
    "transMat0 = None\n",
    "\n",
    "# 합칠 것\n",
    "output = np.zeros_like(old_frame)#.astype('float64')\n",
    "reps = np.ones_like(old_frame).astype('float64')\n",
    "\n",
    "while(1):\n",
    "    ret, frame = cap.read()\n",
    "    frameNm += 1\n",
    "\n",
    "    if frameNm > 7*30:\n",
    "        print('종료')\n",
    "        break\n",
    "\n",
    "    if not ret:\n",
    "        print('No frames grabbed!')\n",
    "        break\n",
    "\n",
    "    # frame = cv2.resize(frame, None,  None, 2, 2, cv2.INTER_LINEAR)\n",
    "    # frame = cv2.pyrUp(frame)\n",
    "\n",
    "    cv2.pyrUp\n",
    "\n",
    "    frame_gray = cv2.cvtColor(frame, cv2.COLOR_BGR2GRAY)\n",
    "    # calculate optical flow\n",
    "    p1, st, err = cv2.calcOpticalFlowPyrLK(old_gray, frame_gray, p0, None, **lk_params)\n",
    "    # Select good points\n",
    "    if p1 is not None:\n",
    "        good_new = p1[st==1]\n",
    "        good_old = p0[st==1]\n",
    "\n",
    "    # calculate 2D affine transformation matrix \n",
    "    transMat1, _ = cv2.estimateAffine2D(good_new, good_old)\n",
    "    if transMat0 is None: transMat0 = transMat1\n",
    "    else:\n",
    "        transMat0 = np.append(transMat1[:, :2]@transMat0[:, :2], (transMat1[:, 2]+transMat0[:, 2]).reshape((2,1)), axis=1)\n",
    "    new_frame = cv2.warpAffine(frame, transMat0, (rows, cols))\n",
    "    # print('transMat',transMat, sep='\\n')\n",
    "\n",
    "    # 더하기\n",
    "    # output += new_frame # 평균\n",
    "    output = np.array((new_frame,output)).max(axis=0) # 최대\n",
    "\n",
    "    reps += new_frame.astype('bool').astype('float64')\n",
    "\n",
    "    # draw the tracks\n",
    "    for i, (new, old) in enumerate(zip(good_new, good_old)):\n",
    "        a, b = new.ravel()\n",
    "        c, d = old.ravel()\n",
    "        mask = cv2.line(mask, (int(a), int(b)), (int(c), int(d)), color[i].tolist(), 2)\n",
    "        new_frame = cv2.circle(new_frame, (int(a), int(b)), 5, color[i].tolist(), -1)\n",
    "    img = cv2.add(new_frame, mask)\n",
    "    cv2.imshow('frame', cv2.pyrDown(cv2.pyrDown(img)))\n",
    "    k = cv2.waitKey(30) & 0xff\n",
    "    if k == 27:\n",
    "        break\n",
    "    # Now update the previous frame and previous points\n",
    "    old_gray = frame_gray.copy()\n",
    "    p0 = good_new.reshape(-1, 1, 2)\n",
    "cv2.destroyAllWindows()"
   ]
  },
  {
   "cell_type": "code",
   "execution_count": 247,
   "metadata": {},
   "outputs": [
    {
     "data": {
      "text/plain": [
       "(1440, 1920)"
      ]
     },
     "execution_count": 247,
     "metadata": {},
     "output_type": "execute_result"
    }
   ],
   "source": [
    "frame_gray.shape"
   ]
  },
  {
   "cell_type": "code",
   "execution_count": 100,
   "metadata": {},
   "outputs": [
    {
     "data": {
      "text/plain": [
       "array([[ 1.00009300e+00,  3.23334847e-05, -1.83417952e-01],\n",
       "       [-1.27781977e-05,  9.99969597e-01,  1.25441728e-01]])"
      ]
     },
     "execution_count": 100,
     "metadata": {},
     "output_type": "execute_result"
    }
   ],
   "source": [
    "transMat"
   ]
  },
  {
   "cell_type": "code",
   "execution_count": 209,
   "metadata": {},
   "outputs": [
    {
     "data": {
      "text/plain": [
       "-1"
      ]
     },
     "execution_count": 209,
     "metadata": {},
     "output_type": "execute_result"
    }
   ],
   "source": [
    "# 평균\n",
    "\n",
    "outimage = (output/reps).astype('uint8')\n",
    "cv2.imwrite('output3.png',outimage)\n",
    "cv2.imshow('outimage', outimage)\n",
    "cv2.waitKey(30)"
   ]
  },
  {
   "cell_type": "code",
   "execution_count": 258,
   "metadata": {},
   "outputs": [
    {
     "data": {
      "text/plain": [
       "True"
      ]
     },
     "execution_count": 258,
     "metadata": {},
     "output_type": "execute_result"
    }
   ],
   "source": [
    "# max\n",
    "cv2.imwrite('output8_max_0.5b_pyrUp.png',output)\n",
    "# cv2.imshow('outimage_max', output)\n",
    "# cv2.waitKey(30)"
   ]
  },
  {
   "cell_type": "code",
   "execution_count": 214,
   "metadata": {},
   "outputs": [
    {
     "data": {
      "text/plain": [
       "numpy.uint8"
      ]
     },
     "execution_count": 214,
     "metadata": {},
     "output_type": "execute_result"
    }
   ],
   "source": [
    "# (new_frame.astype('bool').astype('float64'))[23]\n",
    "type(new_frame[0,0,0])"
   ]
  },
  {
   "cell_type": "code",
   "execution_count": 228,
   "metadata": {},
   "outputs": [
    {
     "data": {
      "text/plain": [
       "(1440, 1920, 3)"
      ]
     },
     "execution_count": 228,
     "metadata": {},
     "output_type": "execute_result"
    }
   ],
   "source": [
    "np.array((new_frame,output)).max(axis=0).shape"
   ]
  },
  {
   "cell_type": "code",
   "execution_count": 229,
   "metadata": {},
   "outputs": [
    {
     "data": {
      "text/plain": [
       "(1440, 1920, 3)"
      ]
     },
     "execution_count": 229,
     "metadata": {},
     "output_type": "execute_result"
    }
   ],
   "source": [
    "new_frame.shape"
   ]
  },
  {
   "cell_type": "code",
   "execution_count": 255,
   "metadata": {},
   "outputs": [],
   "source": [
    "cv2.destroyAllWindows()"
   ]
  }
 ],
 "metadata": {
  "kernelspec": {
   "display_name": "Python 3.10.4 ('venv': venv)",
   "language": "python",
   "name": "python3"
  },
  "language_info": {
   "codemirror_mode": {
    "name": "ipython",
    "version": 3
   },
   "file_extension": ".py",
   "mimetype": "text/x-python",
   "name": "python",
   "nbconvert_exporter": "python",
   "pygments_lexer": "ipython3",
   "version": "3.10.4"
  },
  "orig_nbformat": 4,
  "vscode": {
   "interpreter": {
    "hash": "6897cff8888e560c5dabd88ab6fba74f5d3df8fc1a21917466cd3f1320bf85fd"
   }
  }
 },
 "nbformat": 4,
 "nbformat_minor": 2
}
